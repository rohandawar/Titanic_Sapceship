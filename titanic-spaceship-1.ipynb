{
 "cells": [
  {
   "cell_type": "code",
   "execution_count": 1,
   "id": "be63ba92",
   "metadata": {
    "_cell_guid": "b1076dfc-b9ad-4769-8c92-a6c4dae69d19",
    "_uuid": "8f2839f25d086af736a60e9eeb907d3b93b6e0e5",
    "execution": {
     "iopub.execute_input": "2022-04-18T15:19:15.339049Z",
     "iopub.status.busy": "2022-04-18T15:19:15.338373Z",
     "iopub.status.idle": "2022-04-18T15:19:15.354704Z",
     "shell.execute_reply": "2022-04-18T15:19:15.353909Z"
    },
    "papermill": {
     "duration": 0.031721,
     "end_time": "2022-04-18T15:19:15.356824",
     "exception": false,
     "start_time": "2022-04-18T15:19:15.325103",
     "status": "completed"
    },
    "tags": []
   },
   "outputs": [
    {
     "name": "stdout",
     "output_type": "stream",
     "text": [
      "/kaggle/input/spaceship-titanic/sample_submission.csv\n",
      "/kaggle/input/spaceship-titanic/train.csv\n",
      "/kaggle/input/spaceship-titanic/test.csv\n"
     ]
    }
   ],
   "source": [
    "# This Python 3 environment comes with many helpful analytics libraries installed\n",
    "# It is defined by the kaggle/python Docker image: https://github.com/kaggle/docker-python\n",
    "# For example, here's several helpful packages to load\n",
    "\n",
    "import numpy as np # linear algebra\n",
    "import pandas as pd # data processing, CSV file I/O (e.g. pd.read_csv)\n",
    "\n",
    "# Input data files are available in the read-only \"../input/\" directory\n",
    "# For example, running this (by clicking run or pressing Shift+Enter) will list all files under the input directory\n",
    "\n",
    "import os\n",
    "for dirname, _, filenames in os.walk('/kaggle/input'):\n",
    "    for filename in filenames:\n",
    "        print(os.path.join(dirname, filename))\n",
    "\n",
    "# You can write up to 20GB to the current directory (/kaggle/working/) that gets preserved as output when you create a version using \"Save & Run All\" \n",
    "# You can also write temporary files to /kaggle/temp/, but they won't be saved outside of the current session"
   ]
  },
  {
   "cell_type": "code",
   "execution_count": 2,
   "id": "d794b73f",
   "metadata": {
    "execution": {
     "iopub.execute_input": "2022-04-18T15:19:15.381764Z",
     "iopub.status.busy": "2022-04-18T15:19:15.381271Z",
     "iopub.status.idle": "2022-04-18T15:19:16.709162Z",
     "shell.execute_reply": "2022-04-18T15:19:16.708166Z"
    },
    "papermill": {
     "duration": 1.342902,
     "end_time": "2022-04-18T15:19:16.711614",
     "exception": false,
     "start_time": "2022-04-18T15:19:15.368712",
     "status": "completed"
    },
    "tags": []
   },
   "outputs": [],
   "source": [
    "#import libs\n",
    "import pandas as pd\n",
    "import numpy as np\n",
    "import matplotlib.pyplot as plt\n",
    "import seaborn as sns"
   ]
  },
  {
   "cell_type": "code",
   "execution_count": 3,
   "id": "55060638",
   "metadata": {
    "execution": {
     "iopub.execute_input": "2022-04-18T15:19:16.735575Z",
     "iopub.status.busy": "2022-04-18T15:19:16.735258Z",
     "iopub.status.idle": "2022-04-18T15:19:16.816587Z",
     "shell.execute_reply": "2022-04-18T15:19:16.815689Z"
    },
    "papermill": {
     "duration": 0.095791,
     "end_time": "2022-04-18T15:19:16.818737",
     "exception": false,
     "start_time": "2022-04-18T15:19:16.722946",
     "status": "completed"
    },
    "tags": []
   },
   "outputs": [
    {
     "data": {
      "text/plain": [
       "((8693, 14), (4277, 13))"
      ]
     },
     "execution_count": 3,
     "metadata": {},
     "output_type": "execute_result"
    }
   ],
   "source": [
    "#read the dataset\n",
    "traindf = pd.read_csv('/kaggle/input/spaceship-titanic/train.csv')\n",
    "testdf = pd.read_csv('/kaggle/input/spaceship-titanic/test.csv')\n",
    "traindf.shape, testdf.shape"
   ]
  },
  {
   "cell_type": "markdown",
   "id": "b3925299",
   "metadata": {
    "papermill": {
     "duration": 0.01125,
     "end_time": "2022-04-18T15:19:16.842334",
     "exception": false,
     "start_time": "2022-04-18T15:19:16.831084",
     "status": "completed"
    },
    "tags": []
   },
   "source": [
    "### EDA on train data"
   ]
  },
  {
   "cell_type": "code",
   "execution_count": 4,
   "id": "0399dc89",
   "metadata": {
    "execution": {
     "iopub.execute_input": "2022-04-18T15:19:16.866983Z",
     "iopub.status.busy": "2022-04-18T15:19:16.866451Z",
     "iopub.status.idle": "2022-04-18T15:19:16.872477Z",
     "shell.execute_reply": "2022-04-18T15:19:16.871587Z"
    },
    "papermill": {
     "duration": 0.020283,
     "end_time": "2022-04-18T15:19:16.874153",
     "exception": false,
     "start_time": "2022-04-18T15:19:16.853870",
     "status": "completed"
    },
    "tags": []
   },
   "outputs": [],
   "source": [
    "#function defination\n",
    "def Univariate(df, feature):\n",
    "    if (df[feature].nunique())<20:\n",
    "        print(\"The no of Unique values in {} are {}\".format(feature,df[feature].nunique()))\n",
    "        sns.countplot(x=feature, data=df)\n",
    "        #plt.show()\n",
    "    else:\n",
    "        print(\"The no of Unique values in {} are {}\".format(feature,df[feature].nunique()))\n",
    "    "
   ]
  },
  {
   "cell_type": "code",
   "execution_count": 5,
   "id": "fb5d8dde",
   "metadata": {
    "execution": {
     "iopub.execute_input": "2022-04-18T15:19:16.898823Z",
     "iopub.status.busy": "2022-04-18T15:19:16.898335Z",
     "iopub.status.idle": "2022-04-18T15:19:16.929376Z",
     "shell.execute_reply": "2022-04-18T15:19:16.928383Z"
    },
    "papermill": {
     "duration": 0.046088,
     "end_time": "2022-04-18T15:19:16.931547",
     "exception": false,
     "start_time": "2022-04-18T15:19:16.885459",
     "status": "completed"
    },
    "tags": []
   },
   "outputs": [
    {
     "data": {
      "text/html": [
       "<div>\n",
       "<style scoped>\n",
       "    .dataframe tbody tr th:only-of-type {\n",
       "        vertical-align: middle;\n",
       "    }\n",
       "\n",
       "    .dataframe tbody tr th {\n",
       "        vertical-align: top;\n",
       "    }\n",
       "\n",
       "    .dataframe thead th {\n",
       "        text-align: right;\n",
       "    }\n",
       "</style>\n",
       "<table border=\"1\" class=\"dataframe\">\n",
       "  <thead>\n",
       "    <tr style=\"text-align: right;\">\n",
       "      <th></th>\n",
       "      <th>PassengerId</th>\n",
       "      <th>HomePlanet</th>\n",
       "      <th>CryoSleep</th>\n",
       "      <th>Cabin</th>\n",
       "      <th>Destination</th>\n",
       "      <th>Age</th>\n",
       "      <th>VIP</th>\n",
       "      <th>RoomService</th>\n",
       "      <th>FoodCourt</th>\n",
       "      <th>ShoppingMall</th>\n",
       "      <th>Spa</th>\n",
       "      <th>VRDeck</th>\n",
       "      <th>Name</th>\n",
       "      <th>Transported</th>\n",
       "    </tr>\n",
       "  </thead>\n",
       "  <tbody>\n",
       "    <tr>\n",
       "      <th>0</th>\n",
       "      <td>0001_01</td>\n",
       "      <td>Europa</td>\n",
       "      <td>False</td>\n",
       "      <td>B/0/P</td>\n",
       "      <td>TRAPPIST-1e</td>\n",
       "      <td>39.0</td>\n",
       "      <td>False</td>\n",
       "      <td>0.0</td>\n",
       "      <td>0.0</td>\n",
       "      <td>0.0</td>\n",
       "      <td>0.0</td>\n",
       "      <td>0.0</td>\n",
       "      <td>Maham Ofracculy</td>\n",
       "      <td>False</td>\n",
       "    </tr>\n",
       "    <tr>\n",
       "      <th>1</th>\n",
       "      <td>0002_01</td>\n",
       "      <td>Earth</td>\n",
       "      <td>False</td>\n",
       "      <td>F/0/S</td>\n",
       "      <td>TRAPPIST-1e</td>\n",
       "      <td>24.0</td>\n",
       "      <td>False</td>\n",
       "      <td>109.0</td>\n",
       "      <td>9.0</td>\n",
       "      <td>25.0</td>\n",
       "      <td>549.0</td>\n",
       "      <td>44.0</td>\n",
       "      <td>Juanna Vines</td>\n",
       "      <td>True</td>\n",
       "    </tr>\n",
       "    <tr>\n",
       "      <th>2</th>\n",
       "      <td>0003_01</td>\n",
       "      <td>Europa</td>\n",
       "      <td>False</td>\n",
       "      <td>A/0/S</td>\n",
       "      <td>TRAPPIST-1e</td>\n",
       "      <td>58.0</td>\n",
       "      <td>True</td>\n",
       "      <td>43.0</td>\n",
       "      <td>3576.0</td>\n",
       "      <td>0.0</td>\n",
       "      <td>6715.0</td>\n",
       "      <td>49.0</td>\n",
       "      <td>Altark Susent</td>\n",
       "      <td>False</td>\n",
       "    </tr>\n",
       "    <tr>\n",
       "      <th>3</th>\n",
       "      <td>0003_02</td>\n",
       "      <td>Europa</td>\n",
       "      <td>False</td>\n",
       "      <td>A/0/S</td>\n",
       "      <td>TRAPPIST-1e</td>\n",
       "      <td>33.0</td>\n",
       "      <td>False</td>\n",
       "      <td>0.0</td>\n",
       "      <td>1283.0</td>\n",
       "      <td>371.0</td>\n",
       "      <td>3329.0</td>\n",
       "      <td>193.0</td>\n",
       "      <td>Solam Susent</td>\n",
       "      <td>False</td>\n",
       "    </tr>\n",
       "    <tr>\n",
       "      <th>4</th>\n",
       "      <td>0004_01</td>\n",
       "      <td>Earth</td>\n",
       "      <td>False</td>\n",
       "      <td>F/1/S</td>\n",
       "      <td>TRAPPIST-1e</td>\n",
       "      <td>16.0</td>\n",
       "      <td>False</td>\n",
       "      <td>303.0</td>\n",
       "      <td>70.0</td>\n",
       "      <td>151.0</td>\n",
       "      <td>565.0</td>\n",
       "      <td>2.0</td>\n",
       "      <td>Willy Santantines</td>\n",
       "      <td>True</td>\n",
       "    </tr>\n",
       "  </tbody>\n",
       "</table>\n",
       "</div>"
      ],
      "text/plain": [
       "  PassengerId HomePlanet CryoSleep  Cabin  Destination   Age    VIP  \\\n",
       "0     0001_01     Europa     False  B/0/P  TRAPPIST-1e  39.0  False   \n",
       "1     0002_01      Earth     False  F/0/S  TRAPPIST-1e  24.0  False   \n",
       "2     0003_01     Europa     False  A/0/S  TRAPPIST-1e  58.0   True   \n",
       "3     0003_02     Europa     False  A/0/S  TRAPPIST-1e  33.0  False   \n",
       "4     0004_01      Earth     False  F/1/S  TRAPPIST-1e  16.0  False   \n",
       "\n",
       "   RoomService  FoodCourt  ShoppingMall     Spa  VRDeck               Name  \\\n",
       "0          0.0        0.0           0.0     0.0     0.0    Maham Ofracculy   \n",
       "1        109.0        9.0          25.0   549.0    44.0       Juanna Vines   \n",
       "2         43.0     3576.0           0.0  6715.0    49.0      Altark Susent   \n",
       "3          0.0     1283.0         371.0  3329.0   193.0       Solam Susent   \n",
       "4        303.0       70.0         151.0   565.0     2.0  Willy Santantines   \n",
       "\n",
       "   Transported  \n",
       "0        False  \n",
       "1         True  \n",
       "2        False  \n",
       "3        False  \n",
       "4         True  "
      ]
     },
     "execution_count": 5,
     "metadata": {},
     "output_type": "execute_result"
    }
   ],
   "source": [
    "traindf.head()"
   ]
  },
  {
   "cell_type": "code",
   "execution_count": 6,
   "id": "03c2ff84",
   "metadata": {
    "execution": {
     "iopub.execute_input": "2022-04-18T15:19:16.957459Z",
     "iopub.status.busy": "2022-04-18T15:19:16.956886Z",
     "iopub.status.idle": "2022-04-18T15:19:16.971864Z",
     "shell.execute_reply": "2022-04-18T15:19:16.971246Z"
    },
    "papermill": {
     "duration": 0.029755,
     "end_time": "2022-04-18T15:19:16.973501",
     "exception": false,
     "start_time": "2022-04-18T15:19:16.943746",
     "status": "completed"
    },
    "tags": []
   },
   "outputs": [
    {
     "data": {
      "text/plain": [
       "PassengerId       0\n",
       "HomePlanet      201\n",
       "CryoSleep       217\n",
       "Cabin           199\n",
       "Destination     182\n",
       "Age             179\n",
       "VIP             203\n",
       "RoomService     181\n",
       "FoodCourt       183\n",
       "ShoppingMall    208\n",
       "Spa             183\n",
       "VRDeck          188\n",
       "Name            200\n",
       "Transported       0\n",
       "dtype: int64"
      ]
     },
     "execution_count": 6,
     "metadata": {},
     "output_type": "execute_result"
    }
   ],
   "source": [
    "traindf.isnull().sum()"
   ]
  },
  {
   "cell_type": "code",
   "execution_count": 7,
   "id": "834b9d07",
   "metadata": {
    "execution": {
     "iopub.execute_input": "2022-04-18T15:19:17.000030Z",
     "iopub.status.busy": "2022-04-18T15:19:16.999373Z",
     "iopub.status.idle": "2022-04-18T15:19:17.017138Z",
     "shell.execute_reply": "2022-04-18T15:19:17.015546Z"
    },
    "papermill": {
     "duration": 0.033464,
     "end_time": "2022-04-18T15:19:17.019442",
     "exception": false,
     "start_time": "2022-04-18T15:19:16.985978",
     "status": "completed"
    },
    "tags": []
   },
   "outputs": [
    {
     "name": "stdout",
     "output_type": "stream",
     "text": [
      "The no of Unique values in PassengerId are 8693\n"
     ]
    }
   ],
   "source": [
    "Univariate(traindf, 'PassengerId')"
   ]
  },
  {
   "cell_type": "code",
   "execution_count": 8,
   "id": "056bebce",
   "metadata": {
    "execution": {
     "iopub.execute_input": "2022-04-18T15:19:17.046585Z",
     "iopub.status.busy": "2022-04-18T15:19:17.046252Z",
     "iopub.status.idle": "2022-04-18T15:19:17.212869Z",
     "shell.execute_reply": "2022-04-18T15:19:17.212259Z"
    },
    "papermill": {
     "duration": 0.182192,
     "end_time": "2022-04-18T15:19:17.214779",
     "exception": false,
     "start_time": "2022-04-18T15:19:17.032587",
     "status": "completed"
    },
    "tags": []
   },
   "outputs": [
    {
     "name": "stdout",
     "output_type": "stream",
     "text": [
      "The no of Unique values in HomePlanet are 3\n"
     ]
    },
    {
     "data": {
      "image/png": "[encoded data removed]",
      "text/plain": [
       "<Figure size 432x288 with 1 Axes>"
      ]
     },
     "metadata": {
      "needs_background": "light"
     },
     "output_type": "display_data"
    }
   ],
   "source": [
    "Univariate(traindf, 'HomePlanet')"
   ]
  },
  {
   "cell_type": "code",
   "execution_count": 9,
   "id": "5bd5ffbd",
   "metadata": {
    "execution": {
     "iopub.execute_input": "2022-04-18T15:19:17.257666Z",
     "iopub.status.busy": "2022-04-18T15:19:17.257257Z",
     "iopub.status.idle": "2022-04-18T15:19:17.368905Z",
     "shell.execute_reply": "2022-04-18T15:19:17.368453Z"
    },
    "papermill": {
     "duration": 0.13521,
     "end_time": "2022-04-18T15:19:17.370786",
     "exception": false,
     "start_time": "2022-04-18T15:19:17.235576",
     "status": "completed"
    },
    "tags": []
   },
   "outputs": [
    {
     "name": "stdout",
     "output_type": "stream",
     "text": [
      "The no of Unique values in CryoSleep are 2\n"
     ]
    },
    {
     "data": {
      "image/png": "[encoded data removed]",
      "text/plain": [
       "<Figure size 432x288 with 1 Axes>"
      ]
     },
     "metadata": {
      "needs_background": "light"
     },
     "output_type": "display_data"
    }
   ],
   "source": [
    "Univariate(traindf, 'CryoSleep')"
   ]
  },
  {
   "cell_type": "code",
   "execution_count": 10,
   "id": "ed5f37d7",
   "metadata": {
    "execution": {
     "iopub.execute_input": "2022-04-18T15:19:17.416813Z",
     "iopub.status.busy": "2022-04-18T15:19:17.416411Z",
     "iopub.status.idle": "2022-04-18T15:19:17.423101Z",
     "shell.execute_reply": "2022-04-18T15:19:17.422557Z"
    },
    "papermill": {
     "duration": 0.032007,
     "end_time": "2022-04-18T15:19:17.425179",
     "exception": false,
     "start_time": "2022-04-18T15:19:17.393172",
     "status": "completed"
    },
    "tags": []
   },
   "outputs": [
    {
     "name": "stdout",
     "output_type": "stream",
     "text": [
      "The no of Unique values in Cabin are 6560\n"
     ]
    }
   ],
   "source": [
    "Univariate(traindf, 'Cabin')"
   ]
  },
  {
   "cell_type": "code",
   "execution_count": null,
   "id": "7f5f9ce0",
   "metadata": {
    "papermill": {
     "duration": 0.023059,
     "end_time": "2022-04-18T15:19:17.471109",
     "exception": false,
     "start_time": "2022-04-18T15:19:17.448050",
     "status": "completed"
    },
    "tags": []
   },
   "outputs": [],
   "source": []
  }
 ],
 "metadata": {
  "kernelspec": {
   "display_name": "Python 3",
   "language": "python",
   "name": "python3"
  },
  "language_info": {
   "codemirror_mode": {
    "name": "ipython",
    "version": 3
   },
   "file_extension": ".py",
   "mimetype": "text/x-python",
   "name": "python",
   "nbconvert_exporter": "python",
   "pygments_lexer": "ipython3",
   "version": "3.7.12"
  },
  "papermill": {
   "default_parameters": {},
   "duration": 14.218628,
   "end_time": "2022-04-18T15:19:18.314056",
   "environment_variables": {},
   "exception": null,
   "input_path": "__notebook__.ipynb",
   "output_path": "__notebook__.ipynb",
   "parameters": {},
   "start_time": "2022-04-18T15:19:04.095428",
   "version": "2.3.4"
  }
 },
 "nbformat": 4,
 "nbformat_minor": 5
}
