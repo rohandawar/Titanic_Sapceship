{
 "cells": [
  {
   "cell_type": "code",
   "execution_count": 1,
   "id": "a4221c3f",
   "metadata": {
    "_cell_guid": "b1076dfc-b9ad-4769-8c92-a6c4dae69d19",
    "_uuid": "8f2839f25d086af736a60e9eeb907d3b93b6e0e5",
    "execution": {
     "iopub.execute_input": "2022-04-21T12:55:54.408384Z",
     "iopub.status.busy": "2022-04-21T12:55:54.407699Z",
     "iopub.status.idle": "2022-04-21T12:55:54.424133Z",
     "shell.execute_reply": "2022-04-21T12:55:54.423485Z"
    },
    "papermill": {
     "duration": 0.058458,
     "end_time": "2022-04-21T12:55:54.426316",
     "exception": false,
     "start_time": "2022-04-21T12:55:54.367858",
     "status": "completed"
    },
    "tags": []
   },
   "outputs": [
    {
     "name": "stdout",
     "output_type": "stream",
     "text": [
      "/kaggle/input/spaceship-titanic/sample_submission.csv\n",
      "/kaggle/input/spaceship-titanic/train.csv\n",
      "/kaggle/input/spaceship-titanic/test.csv\n"
     ]
    }
   ],
   "source": [
    "# This Python 3 environment comes with many helpful analytics libraries installed\n",
    "# It is defined by the kaggle/python Docker image: https://github.com/kaggle/docker-python\n",
    "# For example, here's several helpful packages to load\n",
    "\n",
    "import numpy as np # linear algebra\n",
    "import pandas as pd # data processing, CSV file I/O (e.g. pd.read_csv)\n",
    "\n",
    "# Input data files are available in the read-only \"../input/\" directory\n",
    "# For example, running this (by clicking run or pressing Shift+Enter) will list all files under the input directory\n",
    "\n",
    "import os\n",
    "for dirname, _, filenames in os.walk('/kaggle/input'):\n",
    "    for filename in filenames:\n",
    "        print(os.path.join(dirname, filename))\n",
    "\n",
    "# You can write up to 20GB to the current directory (/kaggle/working/) that gets preserved as output when you create a version using \"Save & Run All\" \n",
    "# You can also write temporary files to /kaggle/temp/, but they won't be saved outside of the current session"
   ]
  },
  {
   "cell_type": "code",
   "execution_count": 2,
   "id": "ee4a8b1f",
   "metadata": {
    "execution": {
     "iopub.execute_input": "2022-04-21T12:55:54.506750Z",
     "iopub.status.busy": "2022-04-21T12:55:54.505664Z",
     "iopub.status.idle": "2022-04-21T12:55:55.673574Z",
     "shell.execute_reply": "2022-04-21T12:55:55.672456Z"
    },
    "papermill": {
     "duration": 1.210674,
     "end_time": "2022-04-21T12:55:55.676077",
     "exception": false,
     "start_time": "2022-04-21T12:55:54.465403",
     "status": "completed"
    },
    "tags": []
   },
   "outputs": [],
   "source": [
    "#import libs\n",
    "import pandas as pd\n",
    "import numpy as np\n",
    "import matplotlib.pyplot as plt\n",
    "import seaborn as sns"
   ]
  },
  {
   "cell_type": "code",
   "execution_count": 3,
   "id": "2345fabf",
   "metadata": {
    "execution": {
     "iopub.execute_input": "2022-04-21T12:55:55.752480Z",
     "iopub.status.busy": "2022-04-21T12:55:55.751967Z",
     "iopub.status.idle": "2022-04-21T12:55:55.849021Z",
     "shell.execute_reply": "2022-04-21T12:55:55.848058Z"
    },
    "papermill": {
     "duration": 0.140009,
     "end_time": "2022-04-21T12:55:55.852868",
     "exception": false,
     "start_time": "2022-04-21T12:55:55.712859",
     "status": "completed"
    },
    "tags": []
   },
   "outputs": [
    {
     "data": {
      "text/plain": [
       "((8693, 14), (4277, 13))"
      ]
     },
     "execution_count": 3,
     "metadata": {},
     "output_type": "execute_result"
    }
   ],
   "source": [
    "#read the dataset\n",
    "traindf = pd.read_csv('/kaggle/input/spaceship-titanic/train.csv')\n",
    "testdf = pd.read_csv('/kaggle/input/spaceship-titanic/test.csv')\n",
    "traindf.shape, testdf.shape"
   ]
  },
  {
   "cell_type": "markdown",
   "id": "e589d5b5",
   "metadata": {
    "papermill": {
     "duration": 0.036662,
     "end_time": "2022-04-21T12:55:55.927839",
     "exception": false,
     "start_time": "2022-04-21T12:55:55.891177",
     "status": "completed"
    },
    "tags": []
   },
   "source": [
    "### EDA on train data"
   ]
  },
  {
   "cell_type": "code",
   "execution_count": 4,
   "id": "e4e9f554",
   "metadata": {
    "execution": {
     "iopub.execute_input": "2022-04-21T12:55:56.006207Z",
     "iopub.status.busy": "2022-04-21T12:55:56.005616Z",
     "iopub.status.idle": "2022-04-21T12:55:56.012695Z",
     "shell.execute_reply": "2022-04-21T12:55:56.012024Z"
    },
    "papermill": {
     "duration": 0.047678,
     "end_time": "2022-04-21T12:55:56.014776",
     "exception": false,
     "start_time": "2022-04-21T12:55:55.967098",
     "status": "completed"
    },
    "tags": []
   },
   "outputs": [],
   "source": [
    "#function defination\n",
    "def Univariate(df, feature):\n",
    "    if (df[feature].nunique())<20:\n",
    "        print(\"The no of Unique values in {} are {}\".format(feature,df[feature].nunique()))\n",
    "        sns.countplot(x=feature, data=df)\n",
    "        #plt.show()\n",
    "    else:\n",
    "        print(\"The no of Unique values in {} are {}\".format(feature,df[feature].nunique()))\n",
    "    "
   ]
  },
  {
   "cell_type": "code",
   "execution_count": 5,
   "id": "4e973d3d",
   "metadata": {
    "execution": {
     "iopub.execute_input": "2022-04-21T12:55:56.091112Z",
     "iopub.status.busy": "2022-04-21T12:55:56.090643Z",
     "iopub.status.idle": "2022-04-21T12:55:56.119730Z",
     "shell.execute_reply": "2022-04-21T12:55:56.119015Z"
    },
    "papermill": {
     "duration": 0.06976,
     "end_time": "2022-04-21T12:55:56.121823",
     "exception": false,
     "start_time": "2022-04-21T12:55:56.052063",
     "status": "completed"
    },
    "tags": []
   },
   "outputs": [
    {
     "data": {
      "text/html": [
       "<div>\n",
       "<style scoped>\n",
       "    .dataframe tbody tr th:only-of-type {\n",
       "        vertical-align: middle;\n",
       "    }\n",
       "\n",
       "    .dataframe tbody tr th {\n",
       "        vertical-align: top;\n",
       "    }\n",
       "\n",
       "    .dataframe thead th {\n",
       "        text-align: right;\n",
       "    }\n",
       "</style>\n",
       "<table border=\"1\" class=\"dataframe\">\n",
       "  <thead>\n",
       "    <tr style=\"text-align: right;\">\n",
       "      <th></th>\n",
       "      <th>PassengerId</th>\n",
       "      <th>HomePlanet</th>\n",
       "      <th>CryoSleep</th>\n",
       "      <th>Cabin</th>\n",
       "      <th>Destination</th>\n",
       "      <th>Age</th>\n",
       "      <th>VIP</th>\n",
       "      <th>RoomService</th>\n",
       "      <th>FoodCourt</th>\n",
       "      <th>ShoppingMall</th>\n",
       "      <th>Spa</th>\n",
       "      <th>VRDeck</th>\n",
       "      <th>Name</th>\n",
       "      <th>Transported</th>\n",
       "    </tr>\n",
       "  </thead>\n",
       "  <tbody>\n",
       "    <tr>\n",
       "      <th>0</th>\n",
       "      <td>0001_01</td>\n",
       "      <td>Europa</td>\n",
       "      <td>False</td>\n",
       "      <td>B/0/P</td>\n",
       "      <td>TRAPPIST-1e</td>\n",
       "      <td>39.0</td>\n",
       "      <td>False</td>\n",
       "      <td>0.0</td>\n",
       "      <td>0.0</td>\n",
       "      <td>0.0</td>\n",
       "      <td>0.0</td>\n",
       "      <td>0.0</td>\n",
       "      <td>Maham Ofracculy</td>\n",
       "      <td>False</td>\n",
       "    </tr>\n",
       "    <tr>\n",
       "      <th>1</th>\n",
       "      <td>0002_01</td>\n",
       "      <td>Earth</td>\n",
       "      <td>False</td>\n",
       "      <td>F/0/S</td>\n",
       "      <td>TRAPPIST-1e</td>\n",
       "      <td>24.0</td>\n",
       "      <td>False</td>\n",
       "      <td>109.0</td>\n",
       "      <td>9.0</td>\n",
       "      <td>25.0</td>\n",
       "      <td>549.0</td>\n",
       "      <td>44.0</td>\n",
       "      <td>Juanna Vines</td>\n",
       "      <td>True</td>\n",
       "    </tr>\n",
       "    <tr>\n",
       "      <th>2</th>\n",
       "      <td>0003_01</td>\n",
       "      <td>Europa</td>\n",
       "      <td>False</td>\n",
       "      <td>A/0/S</td>\n",
       "      <td>TRAPPIST-1e</td>\n",
       "      <td>58.0</td>\n",
       "      <td>True</td>\n",
       "      <td>43.0</td>\n",
       "      <td>3576.0</td>\n",
       "      <td>0.0</td>\n",
       "      <td>6715.0</td>\n",
       "      <td>49.0</td>\n",
       "      <td>Altark Susent</td>\n",
       "      <td>False</td>\n",
       "    </tr>\n",
       "    <tr>\n",
       "      <th>3</th>\n",
       "      <td>0003_02</td>\n",
       "      <td>Europa</td>\n",
       "      <td>False</td>\n",
       "      <td>A/0/S</td>\n",
       "      <td>TRAPPIST-1e</td>\n",
       "      <td>33.0</td>\n",
       "      <td>False</td>\n",
       "      <td>0.0</td>\n",
       "      <td>1283.0</td>\n",
       "      <td>371.0</td>\n",
       "      <td>3329.0</td>\n",
       "      <td>193.0</td>\n",
       "      <td>Solam Susent</td>\n",
       "      <td>False</td>\n",
       "    </tr>\n",
       "    <tr>\n",
       "      <th>4</th>\n",
       "      <td>0004_01</td>\n",
       "      <td>Earth</td>\n",
       "      <td>False</td>\n",
       "      <td>F/1/S</td>\n",
       "      <td>TRAPPIST-1e</td>\n",
       "      <td>16.0</td>\n",
       "      <td>False</td>\n",
       "      <td>303.0</td>\n",
       "      <td>70.0</td>\n",
       "      <td>151.0</td>\n",
       "      <td>565.0</td>\n",
       "      <td>2.0</td>\n",
       "      <td>Willy Santantines</td>\n",
       "      <td>True</td>\n",
       "    </tr>\n",
       "  </tbody>\n",
       "</table>\n",
       "</div>"
      ],
      "text/plain": [
       "  PassengerId HomePlanet CryoSleep  Cabin  Destination   Age    VIP  \\\n",
       "0     0001_01     Europa     False  B/0/P  TRAPPIST-1e  39.0  False   \n",
       "1     0002_01      Earth     False  F/0/S  TRAPPIST-1e  24.0  False   \n",
       "2     0003_01     Europa     False  A/0/S  TRAPPIST-1e  58.0   True   \n",
       "3     0003_02     Europa     False  A/0/S  TRAPPIST-1e  33.0  False   \n",
       "4     0004_01      Earth     False  F/1/S  TRAPPIST-1e  16.0  False   \n",
       "\n",
       "   RoomService  FoodCourt  ShoppingMall     Spa  VRDeck               Name  \\\n",
       "0          0.0        0.0           0.0     0.0     0.0    Maham Ofracculy   \n",
       "1        109.0        9.0          25.0   549.0    44.0       Juanna Vines   \n",
       "2         43.0     3576.0           0.0  6715.0    49.0      Altark Susent   \n",
       "3          0.0     1283.0         371.0  3329.0   193.0       Solam Susent   \n",
       "4        303.0       70.0         151.0   565.0     2.0  Willy Santantines   \n",
       "\n",
       "   Transported  \n",
       "0        False  \n",
       "1         True  \n",
       "2        False  \n",
       "3        False  \n",
       "4         True  "
      ]
     },
     "execution_count": 5,
     "metadata": {},
     "output_type": "execute_result"
    }
   ],
   "source": [
    "traindf.head()"
   ]
  },
  {
   "cell_type": "code",
   "execution_count": 6,
   "id": "92709e74",
   "metadata": {
    "execution": {
     "iopub.execute_input": "2022-04-21T12:55:56.199569Z",
     "iopub.status.busy": "2022-04-21T12:55:56.199032Z",
     "iopub.status.idle": "2022-04-21T12:55:56.214898Z",
     "shell.execute_reply": "2022-04-21T12:55:56.213702Z"
    },
    "papermill": {
     "duration": 0.057793,
     "end_time": "2022-04-21T12:55:56.217389",
     "exception": false,
     "start_time": "2022-04-21T12:55:56.159596",
     "status": "completed"
    },
    "tags": []
   },
   "outputs": [
    {
     "data": {
      "text/plain": [
       "PassengerId       0\n",
       "HomePlanet      201\n",
       "CryoSleep       217\n",
       "Cabin           199\n",
       "Destination     182\n",
       "Age             179\n",
       "VIP             203\n",
       "RoomService     181\n",
       "FoodCourt       183\n",
       "ShoppingMall    208\n",
       "Spa             183\n",
       "VRDeck          188\n",
       "Name            200\n",
       "Transported       0\n",
       "dtype: int64"
      ]
     },
     "execution_count": 6,
     "metadata": {},
     "output_type": "execute_result"
    }
   ],
   "source": [
    "traindf.isnull().sum()"
   ]
  },
  {
   "cell_type": "code",
   "execution_count": 7,
   "id": "18094c76",
   "metadata": {
    "execution": {
     "iopub.execute_input": "2022-04-21T12:55:56.297040Z",
     "iopub.status.busy": "2022-04-21T12:55:56.296491Z",
     "iopub.status.idle": "2022-04-21T12:55:56.328662Z",
     "shell.execute_reply": "2022-04-21T12:55:56.327365Z"
    },
    "papermill": {
     "duration": 0.075253,
     "end_time": "2022-04-21T12:55:56.331529",
     "exception": false,
     "start_time": "2022-04-21T12:55:56.256276",
     "status": "completed"
    },
    "tags": []
   },
   "outputs": [
    {
     "name": "stdout",
     "output_type": "stream",
     "text": [
      "<class 'pandas.core.frame.DataFrame'>\n",
      "RangeIndex: 8693 entries, 0 to 8692\n",
      "Data columns (total 14 columns):\n",
      " #   Column        Non-Null Count  Dtype  \n",
      "---  ------        --------------  -----  \n",
      " 0   PassengerId   8693 non-null   object \n",
      " 1   HomePlanet    8492 non-null   object \n",
      " 2   CryoSleep     8476 non-null   object \n",
      " 3   Cabin         8494 non-null   object \n",
      " 4   Destination   8511 non-null   object \n",
      " 5   Age           8514 non-null   float64\n",
      " 6   VIP           8490 non-null   object \n",
      " 7   RoomService   8512 non-null   float64\n",
      " 8   FoodCourt     8510 non-null   float64\n",
      " 9   ShoppingMall  8485 non-null   float64\n",
      " 10  Spa           8510 non-null   float64\n",
      " 11  VRDeck        8505 non-null   float64\n",
      " 12  Name          8493 non-null   object \n",
      " 13  Transported   8693 non-null   bool   \n",
      "dtypes: bool(1), float64(6), object(7)\n",
      "memory usage: 891.5+ KB\n"
     ]
    }
   ],
   "source": [
    "traindf.info()"
   ]
  },
  {
   "cell_type": "code",
   "execution_count": 8,
   "id": "28ced464",
   "metadata": {
    "execution": {
     "iopub.execute_input": "2022-04-21T12:55:56.411403Z",
     "iopub.status.busy": "2022-04-21T12:55:56.410920Z",
     "iopub.status.idle": "2022-04-21T12:55:56.419657Z",
     "shell.execute_reply": "2022-04-21T12:55:56.419012Z"
    },
    "papermill": {
     "duration": 0.051774,
     "end_time": "2022-04-21T12:55:56.422430",
     "exception": false,
     "start_time": "2022-04-21T12:55:56.370656",
     "status": "completed"
    },
    "tags": []
   },
   "outputs": [
    {
     "name": "stdout",
     "output_type": "stream",
     "text": [
      "The no of Unique values in PassengerId are 8693\n"
     ]
    }
   ],
   "source": [
    "Univariate(traindf, 'PassengerId')"
   ]
  },
  {
   "cell_type": "code",
   "execution_count": 9,
   "id": "3d3b39ed",
   "metadata": {
    "execution": {
     "iopub.execute_input": "2022-04-21T12:55:56.502904Z",
     "iopub.status.busy": "2022-04-21T12:55:56.502467Z",
     "iopub.status.idle": "2022-04-21T12:55:56.667872Z",
     "shell.execute_reply": "2022-04-21T12:55:56.667254Z"
    },
    "papermill": {
     "duration": 0.209533,
     "end_time": "2022-04-21T12:55:56.671718",
     "exception": false,
     "start_time": "2022-04-21T12:55:56.462185",
     "status": "completed"
    },
    "tags": []
   },
   "outputs": [
    {
     "name": "stdout",
     "output_type": "stream",
     "text": [
      "The no of Unique values in HomePlanet are 3\n"
     ]
    },
    {
     "data": {
      "image/png": "[encoded data removed]",
      "text/plain": [
       "<Figure size 432x288 with 1 Axes>"
      ]
     },
     "metadata": {
      "needs_background": "light"
     },
     "output_type": "display_data"
    }
   ],
   "source": [
    "Univariate(traindf, 'HomePlanet')"
   ]
  },
  {
   "cell_type": "code",
   "execution_count": 10,
   "id": "ab3e34d7",
   "metadata": {
    "execution": {
     "iopub.execute_input": "2022-04-21T12:55:56.765819Z",
     "iopub.status.busy": "2022-04-21T12:55:56.765350Z",
     "iopub.status.idle": "2022-04-21T12:55:56.960054Z",
     "shell.execute_reply": "2022-04-21T12:55:56.958928Z"
    },
    "papermill": {
     "duration": 0.240147,
     "end_time": "2022-04-21T12:55:56.963462",
     "exception": false,
     "start_time": "2022-04-21T12:55:56.723315",
     "status": "completed"
    },
    "tags": []
   },
   "outputs": [
    {
     "name": "stdout",
     "output_type": "stream",
     "text": [
      "The no of Unique values in CryoSleep are 2\n"
     ]
    },
    {
     "data": {
      "image/png": "[encoded data removed]",
      "text/plain": [
       "<Figure size 432x288 with 1 Axes>"
      ]
     },
     "metadata": {
      "needs_background": "light"
     },
     "output_type": "display_data"
    }
   ],
   "source": [
    "Univariate(traindf, 'CryoSleep')"
   ]
  },
  {
   "cell_type": "code",
   "execution_count": 11,
   "id": "a2f91698",
   "metadata": {
    "execution": {
     "iopub.execute_input": "2022-04-21T12:55:57.051041Z",
     "iopub.status.busy": "2022-04-21T12:55:57.050456Z",
     "iopub.status.idle": "2022-04-21T12:55:57.059841Z",
     "shell.execute_reply": "2022-04-21T12:55:57.058624Z"
    },
    "papermill": {
     "duration": 0.055291,
     "end_time": "2022-04-21T12:55:57.061890",
     "exception": false,
     "start_time": "2022-04-21T12:55:57.006599",
     "status": "completed"
    },
    "tags": []
   },
   "outputs": [
    {
     "name": "stdout",
     "output_type": "stream",
     "text": [
      "The no of Unique values in Cabin are 6560\n"
     ]
    }
   ],
   "source": [
    "Univariate(traindf, 'Cabin')"
   ]
  },
  {
   "cell_type": "code",
   "execution_count": 12,
   "id": "36187923",
   "metadata": {
    "execution": {
     "iopub.execute_input": "2022-04-21T12:55:57.148929Z",
     "iopub.status.busy": "2022-04-21T12:55:57.148379Z",
     "iopub.status.idle": "2022-04-21T12:55:57.339164Z",
     "shell.execute_reply": "2022-04-21T12:55:57.338263Z"
    },
    "papermill": {
     "duration": 0.237326,
     "end_time": "2022-04-21T12:55:57.341371",
     "exception": false,
     "start_time": "2022-04-21T12:55:57.104045",
     "status": "completed"
    },
    "tags": []
   },
   "outputs": [
    {
     "name": "stdout",
     "output_type": "stream",
     "text": [
      "The no of Unique values in Destination are 3\n"
     ]
    },
    {
     "data": {
      "image/png": "[encoded data removed]",
      "text/plain": [
       "<Figure size 432x288 with 1 Axes>"
      ]
     },
     "metadata": {
      "needs_background": "light"
     },
     "output_type": "display_data"
    }
   ],
   "source": [
    "Univariate(traindf, 'Destination')"
   ]
  },
  {
   "cell_type": "code",
   "execution_count": 13,
   "id": "49efe86d",
   "metadata": {
    "execution": {
     "iopub.execute_input": "2022-04-21T12:55:57.428743Z",
     "iopub.status.busy": "2022-04-21T12:55:57.428447Z",
     "iopub.status.idle": "2022-04-21T12:55:57.800552Z",
     "shell.execute_reply": "2022-04-21T12:55:57.799859Z"
    },
    "papermill": {
     "duration": 0.418149,
     "end_time": "2022-04-21T12:55:57.802543",
     "exception": false,
     "start_time": "2022-04-21T12:55:57.384394",
     "status": "completed"
    },
    "tags": []
   },
   "outputs": [
    {
     "data": {
      "image/png": "[encoded data removed]",
      "text/plain": [
       "<Figure size 360x360 with 1 Axes>"
      ]
     },
     "metadata": {
      "needs_background": "light"
     },
     "output_type": "display_data"
    }
   ],
   "source": [
    "sns.displot(x='Age', data=traindf)\n",
    "plt.show()"
   ]
  },
  {
   "cell_type": "code",
   "execution_count": 14,
   "id": "530fce6b",
   "metadata": {
    "execution": {
     "iopub.execute_input": "2022-04-21T12:55:57.891703Z",
     "iopub.status.busy": "2022-04-21T12:55:57.891160Z",
     "iopub.status.idle": "2022-04-21T12:55:58.098959Z",
     "shell.execute_reply": "2022-04-21T12:55:58.097713Z"
    },
    "papermill": {
     "duration": 0.255006,
     "end_time": "2022-04-21T12:55:58.101444",
     "exception": false,
     "start_time": "2022-04-21T12:55:57.846438",
     "status": "completed"
    },
    "tags": []
   },
   "outputs": [
    {
     "name": "stdout",
     "output_type": "stream",
     "text": [
      "The no of Unique values in VIP are 2\n"
     ]
    },
    {
     "data": {
      "image/png": "[encoded data removed]",
      "text/plain": [
       "<Figure size 432x288 with 1 Axes>"
      ]
     },
     "metadata": {
      "needs_background": "light"
     },
     "output_type": "display_data"
    }
   ],
   "source": [
    "Univariate(traindf, 'VIP')"
   ]
  },
  {
   "cell_type": "code",
   "execution_count": 15,
   "id": "3f966b65",
   "metadata": {
    "execution": {
     "iopub.execute_input": "2022-04-21T12:55:58.193067Z",
     "iopub.status.busy": "2022-04-21T12:55:58.192497Z",
     "iopub.status.idle": "2022-04-21T12:55:58.198789Z",
     "shell.execute_reply": "2022-04-21T12:55:58.197591Z"
    },
    "papermill": {
     "duration": 0.053955,
     "end_time": "2022-04-21T12:55:58.200647",
     "exception": false,
     "start_time": "2022-04-21T12:55:58.146692",
     "status": "completed"
    },
    "tags": []
   },
   "outputs": [
    {
     "name": "stdout",
     "output_type": "stream",
     "text": [
      "The no of Unique values in RoomService are 1273\n"
     ]
    }
   ],
   "source": [
    "Univariate(traindf, 'RoomService')"
   ]
  },
  {
   "cell_type": "code",
   "execution_count": 16,
   "id": "ae0b03ea",
   "metadata": {
    "execution": {
     "iopub.execute_input": "2022-04-21T12:55:58.292124Z",
     "iopub.status.busy": "2022-04-21T12:55:58.291108Z",
     "iopub.status.idle": "2022-04-21T12:56:06.651580Z",
     "shell.execute_reply": "2022-04-21T12:56:06.650611Z"
    },
    "papermill": {
     "duration": 8.408539,
     "end_time": "2022-04-21T12:56:06.653918",
     "exception": false,
     "start_time": "2022-04-21T12:55:58.245379",
     "status": "completed"
    },
    "tags": []
   },
   "outputs": [
    {
     "data": {
      "image/png": "[encoded data removed]",
      "text/plain": [
       "<Figure size 360x360 with 1 Axes>"
      ]
     },
     "metadata": {
      "needs_background": "light"
     },
     "output_type": "display_data"
    }
   ],
   "source": [
    "sns.displot(x='FoodCourt', data=traindf)\n",
    "plt.show()"
   ]
  },
  {
   "cell_type": "code",
   "execution_count": 17,
   "id": "1da588b4",
   "metadata": {
    "execution": {
     "iopub.execute_input": "2022-04-21T12:56:06.749758Z",
     "iopub.status.busy": "2022-04-21T12:56:06.748967Z",
     "iopub.status.idle": "2022-04-21T12:56:24.946590Z",
     "shell.execute_reply": "2022-04-21T12:56:24.945720Z"
    },
    "papermill": {
     "duration": 18.247371,
     "end_time": "2022-04-21T12:56:24.948823",
     "exception": false,
     "start_time": "2022-04-21T12:56:06.701452",
     "status": "completed"
    },
    "tags": []
   },
   "outputs": [
    {
     "data": {
      "image/png": "[encoded data removed]",
      "text/plain": [
       "<Figure size 360x360 with 1 Axes>"
      ]
     },
     "metadata": {
      "needs_background": "light"
     },
     "output_type": "display_data"
    }
   ],
   "source": [
    "sns.displot(x='ShoppingMall', data=traindf)\n",
    "plt.show()"
   ]
  },
  {
   "cell_type": "code",
   "execution_count": 18,
   "id": "8ee27d5e",
   "metadata": {
    "execution": {
     "iopub.execute_input": "2022-04-21T12:56:25.044758Z",
     "iopub.status.busy": "2022-04-21T12:56:25.044482Z",
     "iopub.status.idle": "2022-04-21T12:56:33.473629Z",
     "shell.execute_reply": "2022-04-21T12:56:33.472612Z"
    },
    "papermill": {
     "duration": 8.480665,
     "end_time": "2022-04-21T12:56:33.475969",
     "exception": false,
     "start_time": "2022-04-21T12:56:24.995304",
     "status": "completed"
    },
    "tags": []
   },
   "outputs": [
    {
     "data": {
      "image/png": "[encoded data removed]",
      "text/plain": [
       "<Figure size 360x360 with 1 Axes>"
      ]
     },
     "metadata": {
      "needs_background": "light"
     },
     "output_type": "display_data"
    }
   ],
   "source": [
    "sns.displot(x='Spa', data=traindf)\n",
    "plt.show()"
   ]
  },
  {
   "cell_type": "code",
   "execution_count": 19,
   "id": "6d8a0ea9",
   "metadata": {
    "execution": {
     "iopub.execute_input": "2022-04-21T12:56:33.572932Z",
     "iopub.status.busy": "2022-04-21T12:56:33.572521Z",
     "iopub.status.idle": "2022-04-21T12:56:33.582029Z",
     "shell.execute_reply": "2022-04-21T12:56:33.581345Z"
    },
    "papermill": {
     "duration": 0.061282,
     "end_time": "2022-04-21T12:56:33.584504",
     "exception": false,
     "start_time": "2022-04-21T12:56:33.523222",
     "status": "completed"
    },
    "tags": []
   },
   "outputs": [
    {
     "name": "stdout",
     "output_type": "stream",
     "text": [
      "The no of Unique values in Name are 8473\n"
     ]
    }
   ],
   "source": [
    "Univariate(traindf, 'Name')"
   ]
  },
  {
   "cell_type": "code",
   "execution_count": 20,
   "id": "40755e8e",
   "metadata": {
    "execution": {
     "iopub.execute_input": "2022-04-21T12:56:33.685153Z",
     "iopub.status.busy": "2022-04-21T12:56:33.684713Z",
     "iopub.status.idle": "2022-04-21T12:56:33.845911Z",
     "shell.execute_reply": "2022-04-21T12:56:33.845007Z"
    },
    "papermill": {
     "duration": 0.214032,
     "end_time": "2022-04-21T12:56:33.848515",
     "exception": false,
     "start_time": "2022-04-21T12:56:33.634483",
     "status": "completed"
    },
    "tags": []
   },
   "outputs": [
    {
     "name": "stdout",
     "output_type": "stream",
     "text": [
      "The no of Unique values in Transported are 2\n"
     ]
    },
    {
     "data": {
      "image/png": "[encoded data removed]",
      "text/plain": [
       "<Figure size 432x288 with 1 Axes>"
      ]
     },
     "metadata": {
      "needs_background": "light"
     },
     "output_type": "display_data"
    }
   ],
   "source": [
    "Univariate(traindf, 'Transported')"
   ]
  },
  {
   "cell_type": "markdown",
   "id": "16776481",
   "metadata": {
    "papermill": {
     "duration": 0.053063,
     "end_time": "2022-04-21T12:56:33.951101",
     "exception": false,
     "start_time": "2022-04-21T12:56:33.898038",
     "status": "completed"
    },
    "tags": []
   },
   "source": [
    "The data is balanced, this is good sign, no need for tackling class imbalance"
   ]
  },
  {
   "cell_type": "markdown",
   "id": "b5ba91d6",
   "metadata": {
    "papermill": {
     "duration": 0.051633,
     "end_time": "2022-04-21T12:56:34.051243",
     "exception": false,
     "start_time": "2022-04-21T12:56:33.999610",
     "status": "completed"
    },
    "tags": []
   },
   "source": [
    "### EDA testdf"
   ]
  },
  {
   "cell_type": "code",
   "execution_count": 21,
   "id": "5fadda8f",
   "metadata": {
    "execution": {
     "iopub.execute_input": "2022-04-21T12:56:34.150127Z",
     "iopub.status.busy": "2022-04-21T12:56:34.149837Z",
     "iopub.status.idle": "2022-04-21T12:56:34.155717Z",
     "shell.execute_reply": "2022-04-21T12:56:34.154834Z"
    },
    "papermill": {
     "duration": 0.058283,
     "end_time": "2022-04-21T12:56:34.158177",
     "exception": false,
     "start_time": "2022-04-21T12:56:34.099894",
     "status": "completed"
    },
    "tags": []
   },
   "outputs": [
    {
     "data": {
      "text/plain": [
       "Index(['PassengerId', 'HomePlanet', 'CryoSleep', 'Cabin', 'Destination', 'Age',\n",
       "       'VIP', 'RoomService', 'FoodCourt', 'ShoppingMall', 'Spa', 'VRDeck',\n",
       "       'Name'],\n",
       "      dtype='object')"
      ]
     },
     "execution_count": 21,
     "metadata": {},
     "output_type": "execute_result"
    }
   ],
   "source": [
    "testdf.columns"
   ]
  },
  {
   "cell_type": "code",
   "execution_count": 22,
   "id": "49f9a942",
   "metadata": {
    "execution": {
     "iopub.execute_input": "2022-04-21T12:56:34.259233Z",
     "iopub.status.busy": "2022-04-21T12:56:34.258939Z",
     "iopub.status.idle": "2022-04-21T12:56:34.266727Z",
     "shell.execute_reply": "2022-04-21T12:56:34.265577Z"
    },
    "papermill": {
     "duration": 0.060934,
     "end_time": "2022-04-21T12:56:34.268791",
     "exception": false,
     "start_time": "2022-04-21T12:56:34.207857",
     "status": "completed"
    },
    "tags": []
   },
   "outputs": [
    {
     "name": "stdout",
     "output_type": "stream",
     "text": [
      "The no of Unique values in PassengerId are 4277\n"
     ]
    }
   ],
   "source": [
    "Univariate(testdf,'PassengerId')"
   ]
  },
  {
   "cell_type": "code",
   "execution_count": 23,
   "id": "1882be11",
   "metadata": {
    "execution": {
     "iopub.execute_input": "2022-04-21T12:56:34.371052Z",
     "iopub.status.busy": "2022-04-21T12:56:34.370708Z",
     "iopub.status.idle": "2022-04-21T12:56:34.544074Z",
     "shell.execute_reply": "2022-04-21T12:56:34.543140Z"
    },
    "papermill": {
     "duration": 0.228091,
     "end_time": "2022-04-21T12:56:34.546178",
     "exception": false,
     "start_time": "2022-04-21T12:56:34.318087",
     "status": "completed"
    },
    "tags": []
   },
   "outputs": [
    {
     "name": "stdout",
     "output_type": "stream",
     "text": [
      "The no of Unique values in HomePlanet are 3\n"
     ]
    },
    {
     "data": {
      "image/png": "[encoded data removed]",
      "text/plain": [
       "<Figure size 432x288 with 1 Axes>"
      ]
     },
     "metadata": {
      "needs_background": "light"
     },
     "output_type": "display_data"
    }
   ],
   "source": [
    "Univariate(testdf,'HomePlanet')"
   ]
  },
  {
   "cell_type": "code",
   "execution_count": 24,
   "id": "981a6534",
   "metadata": {
    "execution": {
     "iopub.execute_input": "2022-04-21T12:56:34.650687Z",
     "iopub.status.busy": "2022-04-21T12:56:34.650330Z",
     "iopub.status.idle": "2022-04-21T12:56:34.829913Z",
     "shell.execute_reply": "2022-04-21T12:56:34.828754Z"
    },
    "papermill": {
     "duration": 0.234286,
     "end_time": "2022-04-21T12:56:34.832333",
     "exception": false,
     "start_time": "2022-04-21T12:56:34.598047",
     "status": "completed"
    },
    "tags": []
   },
   "outputs": [
    {
     "name": "stdout",
     "output_type": "stream",
     "text": [
      "The no of Unique values in CryoSleep are 2\n"
     ]
    },
    {
     "data": {
      "image/png": "[encoded data removed]",
      "text/plain": [
       "<Figure size 432x288 with 1 Axes>"
      ]
     },
     "metadata": {
      "needs_background": "light"
     },
     "output_type": "display_data"
    }
   ],
   "source": [
    "Univariate(testdf,'CryoSleep')"
   ]
  },
  {
   "cell_type": "code",
   "execution_count": 25,
   "id": "318953b3",
   "metadata": {
    "execution": {
     "iopub.execute_input": "2022-04-21T12:56:34.943104Z",
     "iopub.status.busy": "2022-04-21T12:56:34.942770Z",
     "iopub.status.idle": "2022-04-21T12:56:34.950440Z",
     "shell.execute_reply": "2022-04-21T12:56:34.949541Z"
    },
    "papermill": {
     "duration": 0.065906,
     "end_time": "2022-04-21T12:56:34.952912",
     "exception": false,
     "start_time": "2022-04-21T12:56:34.887006",
     "status": "completed"
    },
    "tags": []
   },
   "outputs": [
    {
     "name": "stdout",
     "output_type": "stream",
     "text": [
      "The no of Unique values in Cabin are 3265\n"
     ]
    }
   ],
   "source": [
    "Univariate(testdf,'Cabin')"
   ]
  },
  {
   "cell_type": "code",
   "execution_count": 26,
   "id": "3452e786",
   "metadata": {
    "execution": {
     "iopub.execute_input": "2022-04-21T12:56:35.065462Z",
     "iopub.status.busy": "2022-04-21T12:56:35.064527Z",
     "iopub.status.idle": "2022-04-21T12:56:35.251635Z",
     "shell.execute_reply": "2022-04-21T12:56:35.251029Z"
    },
    "papermill": {
     "duration": 0.246403,
     "end_time": "2022-04-21T12:56:35.253821",
     "exception": false,
     "start_time": "2022-04-21T12:56:35.007418",
     "status": "completed"
    },
    "tags": []
   },
   "outputs": [
    {
     "name": "stdout",
     "output_type": "stream",
     "text": [
      "The no of Unique values in Destination are 3\n"
     ]
    },
    {
     "data": {
      "image/png": "[encoded data removed]",
      "text/plain": [
       "<Figure size 432x288 with 1 Axes>"
      ]
     },
     "metadata": {
      "needs_background": "light"
     },
     "output_type": "display_data"
    }
   ],
   "source": [
    "Univariate(testdf,'Destination')"
   ]
  },
  {
   "cell_type": "code",
   "execution_count": 27,
   "id": "c898e086",
   "metadata": {
    "execution": {
     "iopub.execute_input": "2022-04-21T12:56:35.363313Z",
     "iopub.status.busy": "2022-04-21T12:56:35.363025Z",
     "iopub.status.idle": "2022-04-21T12:56:35.368427Z",
     "shell.execute_reply": "2022-04-21T12:56:35.367563Z"
    },
    "papermill": {
     "duration": 0.063287,
     "end_time": "2022-04-21T12:56:35.371102",
     "exception": false,
     "start_time": "2022-04-21T12:56:35.307815",
     "status": "completed"
    },
    "tags": []
   },
   "outputs": [
    {
     "name": "stdout",
     "output_type": "stream",
     "text": [
      "The no of Unique values in Age are 79\n"
     ]
    }
   ],
   "source": [
    "Univariate(testdf,'Age')"
   ]
  },
  {
   "cell_type": "code",
   "execution_count": 28,
   "id": "bd3b43ab",
   "metadata": {
    "execution": {
     "iopub.execute_input": "2022-04-21T12:56:35.481845Z",
     "iopub.status.busy": "2022-04-21T12:56:35.481566Z",
     "iopub.status.idle": "2022-04-21T12:56:35.674942Z",
     "shell.execute_reply": "2022-04-21T12:56:35.674350Z"
    },
    "papermill": {
     "duration": 0.249969,
     "end_time": "2022-04-21T12:56:35.676900",
     "exception": false,
     "start_time": "2022-04-21T12:56:35.426931",
     "status": "completed"
    },
    "tags": []
   },
   "outputs": [
    {
     "name": "stdout",
     "output_type": "stream",
     "text": [
      "The no of Unique values in VIP are 2\n"
     ]
    },
    {
     "data": {
      "image/png": "[encoded data removed]",
      "text/plain": [
       "<Figure size 432x288 with 1 Axes>"
      ]
     },
     "metadata": {
      "needs_background": "light"
     },
     "output_type": "display_data"
    }
   ],
   "source": [
    "Univariate(testdf,'VIP')"
   ]
  },
  {
   "cell_type": "code",
   "execution_count": 29,
   "id": "ed6fa591",
   "metadata": {
    "execution": {
     "iopub.execute_input": "2022-04-21T12:56:35.791311Z",
     "iopub.status.busy": "2022-04-21T12:56:35.790866Z",
     "iopub.status.idle": "2022-04-21T12:56:35.795376Z",
     "shell.execute_reply": "2022-04-21T12:56:35.794718Z"
    },
    "papermill": {
     "duration": 0.065592,
     "end_time": "2022-04-21T12:56:35.797378",
     "exception": false,
     "start_time": "2022-04-21T12:56:35.731786",
     "status": "completed"
    },
    "tags": []
   },
   "outputs": [
    {
     "name": "stdout",
     "output_type": "stream",
     "text": [
      "The no of Unique values in RoomService are 842\n"
     ]
    }
   ],
   "source": [
    "Univariate(testdf,'RoomService')"
   ]
  },
  {
   "cell_type": "code",
   "execution_count": 30,
   "id": "afddec17",
   "metadata": {
    "execution": {
     "iopub.execute_input": "2022-04-21T12:56:35.913236Z",
     "iopub.status.busy": "2022-04-21T12:56:35.912710Z",
     "iopub.status.idle": "2022-04-21T12:56:35.917964Z",
     "shell.execute_reply": "2022-04-21T12:56:35.916912Z"
    },
    "papermill": {
     "duration": 0.065927,
     "end_time": "2022-04-21T12:56:35.920436",
     "exception": false,
     "start_time": "2022-04-21T12:56:35.854509",
     "status": "completed"
    },
    "tags": []
   },
   "outputs": [
    {
     "name": "stdout",
     "output_type": "stream",
     "text": [
      "The no of Unique values in FoodCourt are 902\n"
     ]
    }
   ],
   "source": [
    "Univariate(testdf,'FoodCourt')"
   ]
  },
  {
   "cell_type": "code",
   "execution_count": 31,
   "id": "79447721",
   "metadata": {
    "execution": {
     "iopub.execute_input": "2022-04-21T12:56:36.036212Z",
     "iopub.status.busy": "2022-04-21T12:56:36.035677Z",
     "iopub.status.idle": "2022-04-21T12:56:36.041011Z",
     "shell.execute_reply": "2022-04-21T12:56:36.039936Z"
    },
    "papermill": {
     "duration": 0.066202,
     "end_time": "2022-04-21T12:56:36.042997",
     "exception": false,
     "start_time": "2022-04-21T12:56:35.976795",
     "status": "completed"
    },
    "tags": []
   },
   "outputs": [
    {
     "name": "stdout",
     "output_type": "stream",
     "text": [
      "The no of Unique values in ShoppingMall are 715\n"
     ]
    }
   ],
   "source": [
    "Univariate(testdf,'ShoppingMall')"
   ]
  },
  {
   "cell_type": "code",
   "execution_count": 32,
   "id": "1399b14a",
   "metadata": {
    "execution": {
     "iopub.execute_input": "2022-04-21T12:56:36.158172Z",
     "iopub.status.busy": "2022-04-21T12:56:36.157623Z",
     "iopub.status.idle": "2022-04-21T12:56:36.164400Z",
     "shell.execute_reply": "2022-04-21T12:56:36.163416Z"
    },
    "papermill": {
     "duration": 0.067252,
     "end_time": "2022-04-21T12:56:36.166834",
     "exception": false,
     "start_time": "2022-04-21T12:56:36.099582",
     "status": "completed"
    },
    "tags": []
   },
   "outputs": [
    {
     "name": "stdout",
     "output_type": "stream",
     "text": [
      "The no of Unique values in Spa are 833\n"
     ]
    }
   ],
   "source": [
    "Univariate(testdf,'Spa')"
   ]
  },
  {
   "cell_type": "code",
   "execution_count": 33,
   "id": "57d449da",
   "metadata": {
    "execution": {
     "iopub.execute_input": "2022-04-21T12:56:36.282158Z",
     "iopub.status.busy": "2022-04-21T12:56:36.281856Z",
     "iopub.status.idle": "2022-04-21T12:56:36.286669Z",
     "shell.execute_reply": "2022-04-21T12:56:36.285931Z"
    },
    "papermill": {
     "duration": 0.065876,
     "end_time": "2022-04-21T12:56:36.289277",
     "exception": false,
     "start_time": "2022-04-21T12:56:36.223401",
     "status": "completed"
    },
    "tags": []
   },
   "outputs": [
    {
     "name": "stdout",
     "output_type": "stream",
     "text": [
      "The no of Unique values in VRDeck are 796\n"
     ]
    }
   ],
   "source": [
    "Univariate(testdf,'VRDeck')"
   ]
  },
  {
   "cell_type": "code",
   "execution_count": 34,
   "id": "149ceca7",
   "metadata": {
    "execution": {
     "iopub.execute_input": "2022-04-21T12:56:36.405525Z",
     "iopub.status.busy": "2022-04-21T12:56:36.405269Z",
     "iopub.status.idle": "2022-04-21T12:56:36.413143Z",
     "shell.execute_reply": "2022-04-21T12:56:36.412043Z"
    },
    "papermill": {
     "duration": 0.068388,
     "end_time": "2022-04-21T12:56:36.415610",
     "exception": false,
     "start_time": "2022-04-21T12:56:36.347222",
     "status": "completed"
    },
    "tags": []
   },
   "outputs": [
    {
     "name": "stdout",
     "output_type": "stream",
     "text": [
      "The no of Unique values in Name are 4176\n"
     ]
    }
   ],
   "source": [
    "Univariate(testdf,'Name')"
   ]
  },
  {
   "cell_type": "code",
   "execution_count": null,
   "id": "e1b4479c",
   "metadata": {
    "papermill": {
     "duration": 0.056463,
     "end_time": "2022-04-21T12:56:36.529100",
     "exception": false,
     "start_time": "2022-04-21T12:56:36.472637",
     "status": "completed"
    },
    "tags": []
   },
   "outputs": [],
   "source": []
  }
 ],
 "metadata": {
  "kernelspec": {
   "display_name": "Python 3",
   "language": "python",
   "name": "python3"
  },
  "language_info": {
   "codemirror_mode": {
    "name": "ipython",
    "version": 3
   },
   "file_extension": ".py",
   "mimetype": "text/x-python",
   "name": "python",
   "nbconvert_exporter": "python",
   "pygments_lexer": "ipython3",
   "version": "3.7.12"
  },
  "papermill": {
   "default_parameters": {},
   "duration": 53.628731,
   "end_time": "2022-04-21T12:56:37.510059",
   "environment_variables": {},
   "exception": null,
   "input_path": "__notebook__.ipynb",
   "output_path": "__notebook__.ipynb",
   "parameters": {},
   "start_time": "2022-04-21T12:55:43.881328",
   "version": "2.3.4"
  }
 },
 "nbformat": 4,
 "nbformat_minor": 5
}
